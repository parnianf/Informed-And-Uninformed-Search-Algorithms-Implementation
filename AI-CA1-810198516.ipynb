{
 "cells": [
  {
   "cell_type": "markdown",
   "id": "29e410d4",
   "metadata": {},
   "source": [
    "# Artificial Intelligence Course, Dr.Fadaei"
   ]
  },
  {
   "cell_type": "markdown",
   "id": "1be84248",
   "metadata": {},
   "source": [
    "# Computer Assignment #1"
   ]
  },
  {
   "cell_type": "markdown",
   "id": "689ddb20",
   "metadata": {},
   "source": [
    "## Parnian fazel (810198516)"
   ]
  },
  {
   "cell_type": "markdown",
   "id": "af3df87c",
   "metadata": {},
   "source": [
    "### **Goal**\n",
    "\n",
    "In this assignment, we are to find a solution for “Dr Strange” problem. To do this, we will use BFS and IDS as an Uninformed Search algorithm and A* as an Informed Search algorithm. by doing this project, we learn about mentioned search algotirhms and go through some details about them. Also, we will learn the advantages and disadvantages of each algorithm."
   ]
  },
  {
   "cell_type": "markdown",
   "id": "0d7715c4",
   "metadata": {},
   "source": [
    "### **Brief Description**\n",
    "In this project there is a doctor who should collect all potions in a grid. At the begining, one doctor is in the down left corner of the field. Beside the potions, there are some boost medicines which by using them, one doctor will be added to the field (the new doctor will begin moving at up right corner of the grid). If a doctor pass a sqaure that contain a potion or a boost medicine, it will be consumed by them and there is no choice for doctors. doctors can move in four durection in each move: up, down, left or right. The final goal is to collect all potions and doctors should reach the top right corner of the grid."
   ]
  },
  {
   "cell_type": "markdown",
   "id": "9f3c1dae",
   "metadata": {},
   "source": [
    "### Defining and modeling the problem:\n",
    "* **initial state**: where the agent starts. Here is left corner of the map.\n",
    "* **goal state**:  the state which all the potions have been eaten by the doctors and all the doctors are in the [n-1,m-1] sqaure (top right corner of the map).\n",
    "* **actions**: there are four actions can be made: going up, down, left or right if the square is not wall or obstacle. pay attention when we are in a sqaure which has a potion or a boost medicine the doctors will use them and there is no choice, so using the potions and boost medicines does not count as an action\n",
    "* **step cost**: the step cost in this project is always one\n",
    "* **optimal solution**: the optimal solution here is the lowest path cost among all solutions is to get the top right corner of the map, eaten all the potions."
   ]
  },
  {
   "cell_type": "markdown",
   "id": "ae9032aa",
   "metadata": {},
   "source": [
    "First I import the libraries I need in this project:"
   ]
  },
  {
   "cell_type": "code",
   "execution_count": 713,
   "id": "c2e17498",
   "metadata": {},
   "outputs": [],
   "source": [
    "import queue\n",
    "import copy\n",
    "import collections\n",
    "import time\n",
    "import math\n",
    "import heapq\n",
    "import bisect"
   ]
  },
  {
   "cell_type": "markdown",
   "id": "74a1f907",
   "metadata": {},
   "source": [
    "## Reading the test data and coordinatioans"
   ]
  },
  {
   "cell_type": "markdown",
   "id": "7c61169c",
   "metadata": {},
   "source": [
    "I save the coordinations in a list ([x,y]).\n",
    "* \"potions\" list contains list of potions coordinations.\n",
    "* \"boosts\" list contains list of boosts medicine coordinations.\n",
    "* \"obs\" list contains list of obstacles coordinations."
   ]
  },
  {
   "cell_type": "code",
   "execution_count": 714,
   "id": "a9a588c1",
   "metadata": {},
   "outputs": [],
   "source": [
    "f = open(\"test3.in\", \"r\")\n",
    "n, m = f.readline().split()\n",
    "c, k = f.readline().split()\n",
    "n, m, c, k = int(n), int(m), int(c), int(k)\n",
    "\n",
    "potions = []\n",
    "boosts = []\n",
    "obs = []\n",
    "\n",
    "for i in range(c):\n",
    "    x = f.readline().split()\n",
    "    potions.append([int(x[0]), int(x[1])])\n",
    "    \n",
    "for i in range(k):\n",
    "    x = f.readline().split()\n",
    "    boosts.append([int(x[0]), int(x[1])])\n",
    "\n",
    "    \n",
    "obs_n = int(f.readline())\n",
    "for i in range(obs_n):\n",
    "    x = f.readline().split()\n",
    "    obs.append([int(x[0]), int(x[1])])"
   ]
  },
  {
   "cell_type": "markdown",
   "id": "e2dbb380",
   "metadata": {},
   "source": [
    "I defined two classes in this project. One for agent and another one for state. The Agent class contains the x and y coordinations and also I assigned an unique ID to each agent because of the fact that there can be several agents in the field and the should be distinguishable."
   ]
  },
  {
   "cell_type": "code",
   "execution_count": 715,
   "id": "3dbb0a5a",
   "metadata": {},
   "outputs": [],
   "source": [
    "class Agent:\n",
    "    def __init__(self, x, y, a_id):\n",
    "        self.x = x\n",
    "        self.y = y\n",
    "        self.id = a_id\n",
    "    def to_string(self):\n",
    "        return str(self.x) + '-' + str(self.y)"
   ]
  },
  {
   "cell_type": "markdown",
   "id": "80265975",
   "metadata": {},
   "source": [
    "The State class has several attributes:\n",
    "* **agents** -> agents cooridinations in each state\n",
    "* **potions** -> potions remianed in each state\n",
    "* **boosts** -> boosts medicines remained in each state\n",
    "* **parent** -> parent of this state\n",
    "* **depth** -> depth of each state from the root state\n",
    "* **move** -> a string to save the direction of the moving agent."
   ]
  },
  {
   "cell_type": "code",
   "execution_count": 716,
   "id": "d7a74955",
   "metadata": {},
   "outputs": [],
   "source": [
    "class State:\n",
    "    def __init__(self, agent, potions_coor, boost_coor, parent = None):\n",
    "        self.agents = []\n",
    "        self.agents.append(agent)\n",
    "        self.potions = potions_coor\n",
    "        self.boosts = boost_coor\n",
    "        self.move = ''\n",
    "        self.parent = parent\n",
    "        if parent == None:\n",
    "            self.depth = 0\n",
    "        else: \n",
    "            self.depth = parent.depth + 1\n",
    "        \n",
    "    def add_agent(self, sec_agent):\n",
    "        self.agents.append(sec_agent)\n",
    "        \n",
    "    def did_all_agents_reach_dest(self):\n",
    "        x = 0\n",
    "        for ag in self.agents:\n",
    "            if ag.x == n-1 and ag.y == m-1:\n",
    "                x+=1\n",
    "        if x == len(self.agents):\n",
    "            return True\n",
    "        return False\n",
    "    def is_goal(self):\n",
    "        if self.did_all_agents_reach_dest() and not len(self.potions):\n",
    "            return True\n",
    "        return False\n",
    "    def set_move(self, dir_move):\n",
    "        self.move = dir_move\n",
    "    def to_string(self): \n",
    "        res = ''\n",
    "        for ag in self.agents:\n",
    "            res += ag.to_string()\n",
    "        for pot in self.potions:\n",
    "            res += str(pot[0])+'-'+str(pot[1])\n",
    "        for boo in self.boosts:\n",
    "            res += str(boo[0])+'-'+str(boo[1])\n",
    "        \n",
    "        return res\n"
   ]
  },
  {
   "cell_type": "markdown",
   "id": "f14bd34a",
   "metadata": {},
   "source": [
    "Here I define the allowed directions each doctor can go and also some functions we need through the entire project."
   ]
  },
  {
   "cell_type": "code",
   "execution_count": 717,
   "id": "3806a69f",
   "metadata": {},
   "outputs": [],
   "source": [
    "directions = [[1, 0], [0, 1], [-1, 0], [0, -1]]\n",
    "\n",
    "def is_obs(x, y):\n",
    "    if x < 0 or y < 0 or y >= m or x >= n or [x, y] in obs: \n",
    "        return True\n",
    "    return False\n",
    "\n",
    "\n",
    "def is_potion_in_sqaure(curr_state, x, y):\n",
    "    if [x, y] in curr_state.potions:\n",
    "        return True\n",
    "    return False\n",
    "\n",
    "def is_boost_in_sqaure(curr_state, x, y):\n",
    "    if [x, y] in curr_state.boosts:\n",
    "        return True\n",
    "    return False\n",
    "\n",
    "def get_dir_string(dir):\n",
    "    if(dir == [1, 0]): return \"UP\"\n",
    "    if(dir == [-1, 0]): return \"DOWN\"\n",
    "    if(dir == [0, 1]): return \"RIGHT\"\n",
    "    if(dir == [0, -1]): return \"LEFT\"\n",
    "    \n",
    "def print_path(st):\n",
    "    if st.parent == None:\n",
    "        return \n",
    "    print_path(st.parent)\n",
    "    print(f\"{st.move}\")"
   ]
  },
  {
   "cell_type": "markdown",
   "id": "cb8a2f72",
   "metadata": {},
   "source": [
    "Here I define the initial state for the 3 search algorithms:"
   ]
  },
  {
   "cell_type": "code",
   "execution_count": 718,
   "id": "53aee94c",
   "metadata": {},
   "outputs": [],
   "source": [
    "first_agent = Agent(0,0,1)\n",
    "initial_state = State(first_agent, potions, boosts, None)\n",
    "if is_boost_in_sqaure(initial_state, 0, 0):\n",
    "    initial_state.boosts = [x for x in initial_state.boosts if x not in [[0, 0]]]\n",
    "    new_agent_in = Agent(n-1, 0, 2)\n",
    "    initial_state.add_agent(new_agent_in)"
   ]
  },
  {
   "cell_type": "markdown",
   "id": "96550cee",
   "metadata": {},
   "source": [
    "# **Uninformed search**"
   ]
  },
  {
   "cell_type": "markdown",
   "id": "886facb7",
   "metadata": {},
   "source": [
    "# Breadth-first Search"
   ]
  },
  {
   "cell_type": "markdown",
   "id": "1da932c8",
   "metadata": {},
   "source": [
    "BFS is a strategy in which the root node is expanded first, then all the successors of the root node are expanded next, then their successors, and so on. Generally, all the nodes are expanded at a given depth in the search tree before any nodes at the next level are expanded."
   ]
  },
  {
   "cell_type": "markdown",
   "id": "a288bab3",
   "metadata": {},
   "source": [
    "### Measuring `BFS` performance:\n",
    "* **Completeness**: Yes (if branching factor b is finite)\n",
    "* **Optimality**: Yes, If the path cost is a nondecreasing function of the depth of the node\n",
    "* **Time Complexity**: $b^{d}$ (b is branching factor and d is depth of the optimal solution\n",
    "* **Space Complexity**: $b^{d}$"
   ]
  },
  {
   "cell_type": "markdown",
   "id": "c869589b",
   "metadata": {},
   "source": [
    "The memory requirements are a bigger problem for `BFS` than is the executation time.\n",
    "The number of all states seen is equal to the number of unique states seen, because of the fact that this algorithm doesn't explore a state more than once."
   ]
  },
  {
   "cell_type": "markdown",
   "id": "38011315",
   "metadata": {},
   "source": [
    "I defined the BFS function as it has a frontier queue (FIFO queue) to store the list of unexpanded nodes and an explored set that every time we expand a node, we add its state.to-string() into this set. The reason I used the string of the state is beacause of the executation time. At first I append the initial state to the frontier list then a loop continues until we don't reach the goal node or the frontier set is non-empty. At each step we enqueue a node from frontier. the we check if the successor is the goal state, if it is the while should end the solution be returned and if not I expand the current state and add the expnaded state to the frontier set. I add state.to_string() into explored set beacuae in this case the executation time will decreas."
   ]
  },
  {
   "cell_type": "markdown",
   "id": "8df7e224",
   "metadata": {},
   "source": [
    "**Advantages**:\n",
    "\n",
    "* The algorithm is complete (The solution will definitely be found by BFS If there is some solution).\n",
    "* If there are more than one solution in the problem, it will find the shallowest solution.\n"
   ]
  },
  {
   "cell_type": "markdown",
   "id": "5b7bcd2b",
   "metadata": {},
   "source": [
    "**Disadvantages**:\n",
    "* Memory Constraints As it stores all the nodes of the present level to go for the next level.\n",
    "* If a solution is far away then it consumes time."
   ]
  },
  {
   "cell_type": "code",
   "execution_count": 719,
   "id": "bdebccac",
   "metadata": {},
   "outputs": [],
   "source": [
    "def BFS(initial_state):\n",
    "    explored = set()\n",
    "    frontier = collections.deque()\n",
    "    frontier.append(initial_state)\n",
    "    explored.add(initial_state.to_string())\n",
    "    number_of_all_states = 1\n",
    "    if initial_state.is_goal():\n",
    "        print(\"GOAL REACHED\")\n",
    "        return initial_state, number_of_all_states, len(explored)\n",
    "    while len(frontier):\n",
    "        curr_state = frontier.popleft()\n",
    "        for d in directions:\n",
    "            for a in curr_state.agents:\n",
    "                new_x = a.x + d[0]\n",
    "                new_y = a.y + d[1]\n",
    "                if not is_obs(new_x, new_y):\n",
    "                    new_pos_ag = Agent(new_x, new_y, a.id)\n",
    "                    new_state_potions = copy.deepcopy(curr_state.potions)\n",
    "                    new_state_boosts = copy.deepcopy(curr_state.boosts)\n",
    "                    if is_potion_in_sqaure(curr_state, new_x, new_y):\n",
    "                        new_state_potions = [x for x in new_state_potions if x not in [[new_x, new_y]]]\n",
    "                    boost_ag = None\n",
    "                    if is_boost_in_sqaure(curr_state, new_x, new_y):\n",
    "                        new_state_boosts = [x for x in new_state_boosts if x not in [[new_x, new_y]]]\n",
    "                        boost_ag = Agent(n-1, 0, len(curr_state.agents)+1)\n",
    "                    new_state = State(new_pos_ag, new_state_potions, new_state_boosts, curr_state)\n",
    "                    number_of_all_states += 1\n",
    "                    for other_ag in curr_state.agents:\n",
    "                        if not other_ag.id == new_pos_ag.id:\n",
    "                            new_state.add_agent(other_ag)\n",
    "                    move_str = \"(\" + str(new_pos_ag.x)+\",\"+str(new_pos_ag.y)+\") \"+str(new_pos_ag.id)+' '+get_dir_string(d)\n",
    "                    if not boost_ag == None:\n",
    "                        new_state.add_agent(boost_ag)\n",
    "                        move_str += \" *boost* number of agents: \" + str(len(new_state.agents))\n",
    "                    new_state.set_move(move_str)\n",
    "                    if not new_state.to_string() in explored:\n",
    "                        if new_state.is_goal():\n",
    "                            print(\"GOAL REACHED\")\n",
    "                            return new_state, number_of_all_states, len(explored)\n",
    "                        else:\n",
    "                            frontier.append(new_state)\n",
    "                            explored.add(new_state.to_string())\n",
    "\n",
    "    print(\"FAILIUR\")"
   ]
  },
  {
   "cell_type": "markdown",
   "id": "46fea917",
   "metadata": {},
   "source": [
    "Running the `BFS` algorithm:"
   ]
  },
  {
   "cell_type": "code",
   "execution_count": 720,
   "id": "548c56c4",
   "metadata": {},
   "outputs": [
    {
     "name": "stdout",
     "output_type": "stream",
     "text": [
      "GOAL REACHED\n"
     ]
    }
   ],
   "source": [
    "start = time.time()\n",
    "final_state, number_of_all_states, different_states = BFS(initial_state)\n",
    "end = time.time()"
   ]
  },
  {
   "cell_type": "markdown",
   "id": "6d92b6cb",
   "metadata": {},
   "source": [
    "Printing the result of running `BFS` algorithm:"
   ]
  },
  {
   "cell_type": "code",
   "execution_count": 721,
   "id": "173363ca",
   "metadata": {},
   "outputs": [
    {
     "name": "stdout",
     "output_type": "stream",
     "text": [
      "Distance: 19\n",
      "Optimal path:\n",
      "(1,0) 1 UP\n",
      "(2,0) 1 UP\n",
      "(2,1) 1 RIGHT\n",
      "(2,2) 1 RIGHT *boost* number of agents: 2\n",
      "(5,1) 2 RIGHT\n",
      "(5,2) 2 RIGHT\n",
      "(5,3) 2 RIGHT\n",
      "(4,3) 2 DOWN\n",
      "(5,3) 2 UP\n",
      "(5,4) 2 RIGHT\n",
      "(5,5) 2 RIGHT\n",
      "(1,2) 1 DOWN\n",
      "(1,3) 1 RIGHT\n",
      "(1,4) 1 RIGHT\n",
      "(1,5) 1 RIGHT\n",
      "(2,5) 1 UP\n",
      "(3,5) 1 UP\n",
      "(4,5) 1 UP\n",
      "(5,5) 1 UP\n",
      "Number of all states seen: 1082141\n",
      "Number of different states seen: 179473\n",
      "Executation time: 16.8428373336792 second\n"
     ]
    }
   ],
   "source": [
    "print(f\"Distance: {final_state.depth}\")\n",
    "print(\"Optimal path:\")\n",
    "print_path(final_state)\n",
    "print(f\"Number of all states seen: {number_of_all_states}\")\n",
    "print(f\"Number of different states seen: {different_states}\")\n",
    "print(f\"Executation time: {end-start} second\")"
   ]
  },
  {
   "cell_type": "markdown",
   "id": "e262512e",
   "metadata": {},
   "source": [
    "## Test result of `BFS` search:"
   ]
  },
  {
   "cell_type": "markdown",
   "id": "3ef7641a",
   "metadata": {},
   "source": [
    "| Test# | Different states |  All states | Distance  |             time           |\n",
    "|------ |----------------|-------------|-----------|----------------------------|\n",
    "|   1   |      805       |    4149     |     11    |     0.05605125427246094    |\n",
    "|   2   |     854407     |    116268   |     11    |     10.436302661895752     |\n",
    "|   3   |     179473     |    1082141  |     19    |     15.891164064407349     |\n"
   ]
  },
  {
   "cell_type": "markdown",
   "id": "48fe6e4f",
   "metadata": {},
   "source": [
    "# Iterartive deepening depth-first search"
   ]
  },
  {
   "cell_type": "markdown",
   "id": "a05b194c",
   "metadata": {},
   "source": [
    "`IDS` is a general strategy, often used in combination with `depth-first search` that findes the best depth limit. It does this by gradually icreasing the limit until a goal is found. Iterative deepening combines the benefits of the `depth-first` and `breadth-first` search. Like `breadth-first search`, it is completewhen the branching factor is finite and optimal when the path cost is a non-decreasing function of the depth of the node."
   ]
  },
  {
   "cell_type": "markdown",
   "id": "0e1b5bb4",
   "metadata": {},
   "source": [
    "### Measuring `IDS` performance:\n",
    "* **Completeness**: Yes (if branching factor b is finite)\n",
    "* **Optimality**: Yes, if step cost = 1\n",
    "* **Time Complexity**: $(d+1)*b^{0} + d*b{1} + (d-1)*b^{2} + ... + b^{d} = O(b^{d})$\n",
    "* **Space Complexity**: $b*d$\n",
    "\n",
    "*`b` is branching factor and `d` is depth of the optimal solution"
   ]
  },
  {
   "cell_type": "markdown",
   "id": "992da5a5",
   "metadata": {},
   "source": [
    "**Advantages**:\n",
    "* `IDDFS` is complete if there is a solution.\n",
    "* Another major advantage of the `IDDFS` algorithm is its quick responsiveness. The early results indications are a plus point in this algorithm.\n",
    "* The performance of `IDDFS` is better than single `BFS` and `DFS` operating exclusively.\n",
    "* This `IDS` is an optimal search algotrithm."
   ]
  },
  {
   "cell_type": "markdown",
   "id": "09c5a0f0",
   "metadata": {},
   "source": [
    "**Disadvantages**:\n",
    "* The time taken is exponential to reach the goal node.\n",
    "* The main problem with `IDDFS` is the time and wasted calculations that take place at each depth.\n"
   ]
  },
  {
   "cell_type": "markdown",
   "id": "d6580e3f",
   "metadata": {},
   "source": [
    "First I implemented `DLS` algorithm. the DLS algorithm runs the `DFS` algorithm with a limit of depth. For `IDS`, I call `DLS` in a while loop by incresing the depth limit until the goal is found. At every itteration I reset all of data structures to initial values. in `IDS` we should consider the depth of states in explored set, because it is possible to see a repeated state but in less depth."
   ]
  },
  {
   "cell_type": "code",
   "execution_count": 722,
   "id": "c099fffd",
   "metadata": {},
   "outputs": [],
   "source": [
    "def DLS(curr_state, limit, explored):\n",
    "    global number_of_all_states\n",
    "    explored.add((curr_state.to_string(), curr_state.depth))\n",
    "    if curr_state.is_goal():\n",
    "        print(f\"Number of different states seen: {len(explored)}\")\n",
    "        print(f\"Number of all states seen: {number_of_all_states}\")\n",
    "        return curr_state\n",
    "    if curr_state.depth == limit:\n",
    "        return None\n",
    "    for d in directions:\n",
    "        for a in curr_state.agents:\n",
    "            new_x = a.x + d[0]\n",
    "            new_y = a.y + d[1]\n",
    "            if not is_obs(new_x, new_y):\n",
    "                new_pos_ag = Agent(new_x, new_y, a.id)\n",
    "                new_state_potions = copy.deepcopy(curr_state.potions)\n",
    "                new_state_boosts = copy.deepcopy(curr_state.boosts)\n",
    "                if is_potion_in_sqaure(curr_state, new_x, new_y):\n",
    "                    new_state_potions = [x for x in new_state_potions if x not in [[new_x, new_y]]]\n",
    "                new_ag = None\n",
    "                if is_boost_in_sqaure(curr_state, new_x, new_y):\n",
    "                    new_state_boosts = [x for x in new_state_boosts if x not in [[new_x, new_y]]]\n",
    "                    new_ag = Agent(n-1, 0, len(curr_state.agents)+1)\n",
    "                new_state = State(new_pos_ag, new_state_potions, new_state_boosts, curr_state)\n",
    "                number_of_all_states += 1\n",
    "                if not new_ag == None:\n",
    "                    new_state.add_agent(new_ag)\n",
    "                for other_ag in curr_state.agents:\n",
    "                    if not other_ag.id == new_pos_ag.id:\n",
    "                        new_state.add_agent(other_ag)\n",
    "                move_str = \"(\" + str(new_pos_ag.x)+\",\"+str(new_pos_ag.y)+\") \"+str(new_pos_ag.id)+' '+get_dir_string(d)\n",
    "                if not new_ag == None:\n",
    "                    move_str += \" *boost* number of agents: \" + str(len(new_state.agents))\n",
    "                new_state.set_move(move_str)                \n",
    "                if (new_state.to_string(), new_state.depth) not in explored:\n",
    "                    result = DLS(new_state, limit, explored)\n",
    "                    if not result == None:\n",
    "                        return result\n"
   ]
  },
  {
   "cell_type": "code",
   "execution_count": 723,
   "id": "e1d5342c",
   "metadata": {},
   "outputs": [],
   "source": [
    "def IDS(initial_state):\n",
    "    depth = 0\n",
    "    explored = set()\n",
    "    while True:\n",
    "        explored.clear()\n",
    "        final_state = DLS(initial_state, depth, explored)\n",
    "        if not final_state == None:\n",
    "            break\n",
    "        depth += 1\n",
    "    return final_state"
   ]
  },
  {
   "cell_type": "code",
   "execution_count": 724,
   "id": "ac23a5a6",
   "metadata": {},
   "outputs": [
    {
     "name": "stdout",
     "output_type": "stream",
     "text": [
      "Number of different states seen: 290955\n",
      "Number of all states seen: 5270562\n",
      "Optimal path:\n",
      "(1,0) 1 UP\n",
      "(2,0) 1 UP\n",
      "(2,1) 1 RIGHT\n",
      "(2,2) 1 RIGHT *boost* number of agents: 2\n",
      "(5,1) 2 RIGHT\n",
      "(5,2) 2 RIGHT\n",
      "(5,3) 2 RIGHT\n",
      "(4,3) 2 DOWN\n",
      "(5,3) 2 UP\n",
      "(5,4) 2 RIGHT\n",
      "(5,5) 2 RIGHT\n",
      "(1,2) 1 DOWN\n",
      "(1,3) 1 RIGHT\n",
      "(1,4) 1 RIGHT\n",
      "(1,5) 1 RIGHT\n",
      "(2,5) 1 UP\n",
      "(3,5) 1 UP\n",
      "(4,5) 1 UP\n",
      "(5,5) 1 UP\n",
      "Distance: 19\n",
      "Total number of agents: 2\n",
      "Executation time: 86.39207196235657 second\n"
     ]
    }
   ],
   "source": [
    "number_of_all_states = 0\n",
    "start = time.time()\n",
    "final_state = IDS(initial_state)\n",
    "end = time.time()\n",
    "print(\"Optimal path:\")\n",
    "print_path(final_state)\n",
    "print(f\"Distance: {final_state.depth}\")\n",
    "print(f\"Total number of agents: {len(final_state.agents)}\")\n",
    "print(f\"Executation time: {end - start} second\")"
   ]
  },
  {
   "cell_type": "markdown",
   "id": "b0907c16",
   "metadata": {},
   "source": [
    "## Test result of `IDS` search:"
   ]
  },
  {
   "cell_type": "markdown",
   "id": "8b52f0e9",
   "metadata": {},
   "source": [
    "| Test# | Different states  |  All states  | Distance  |             time           |\n",
    "|------ |-----------------|------------- |-----------|----------------------------|\n",
    "|   1   |      1893       |    31651     |     11    |     0.3046090602874756     |\n",
    "|   2   |     166772      |    2619636   |     11    |     29.745219707489014     |\n",
    "|   3   |     290955      |    5270562   |     19    |     84.30033230781555      |\n"
   ]
  },
  {
   "cell_type": "markdown",
   "id": "4976b9ff",
   "metadata": {},
   "source": [
    "# Informed Search"
   ]
  },
  {
   "cell_type": "markdown",
   "id": "900b3732",
   "metadata": {},
   "source": [
    "# A* (A star) search: minimizing the total estimated solution cost"
   ]
  },
  {
   "cell_type": "markdown",
   "id": "cd4d21a9",
   "metadata": {},
   "source": [
    "The `A*` serach algorithm evaluates nodes by combining $g(n)$, the cost to reach the node, and $h(n)$, the cost to getfrom the node to the goal.  $f(n) = g(n) + h(n)$\n",
    "If we are trying to the cheapest solution, what we should try first is finding the node with the lowest value of $g(n) + h(n)$."
   ]
  },
  {
   "cell_type": "markdown",
   "id": "f4268137",
   "metadata": {},
   "source": [
    "### Measuring `A*` performance:\n",
    "* **Completeness**: Yes \n",
    "* **Optimality**: Yes, A* using `GRAPH-SERACH` is optimal if $h(n)$ in consistent\n",
    "* **Time Complexity**: number of nodes which heuristic expands\n",
    "* **Space Complexity**: $O(b^{d})$. \n",
    "\n",
    "*`b` is branching factor and `d` is depth of the optimal solution"
   ]
  },
  {
   "cell_type": "markdown",
   "id": "548968bd",
   "metadata": {},
   "source": [
    "**Advantages**:\n",
    "\n",
    "* It is complete and optimal search algorithm.\n",
    "* It is the best one from other techniques. It is used to solve very complex problems.\n",
    "* the space complexity is good because of the fact that less nodes are seen(although it is exponential)."
   ]
  },
  {
   "cell_type": "markdown",
   "id": "ee185de7",
   "metadata": {},
   "source": [
    "**Disadvantages**:\n",
    "* The speed execution of A* search is highly dependant on the accuracy of the heuristic algorithm that is used to compute $h(n)$."
   ]
  },
  {
   "cell_type": "markdown",
   "id": "ae2a76f5",
   "metadata": {},
   "source": [
    "### Heuristic Function"
   ]
  },
  {
   "cell_type": "markdown",
   "id": "84f0d8b5",
   "metadata": {},
   "source": [
    "By the definition, heuristic function is the estimated cost of the cheapest path from node n to a goal node. Here I defined the heuristic function as:\n",
    "\n",
    "**$h(n) =$ maximum manhattan distance from all agent to the top right corner (final goal node) of the map**"
   ]
  },
  {
   "cell_type": "markdown",
   "id": "33695825",
   "metadata": {},
   "source": [
    "### **This $h(n)$ is Admissible. WHY?**"
   ]
  },
  {
   "cell_type": "markdown",
   "id": "5aaeb23f",
   "metadata": {},
   "source": [
    "The definition of `admissible heuristic`: We say `h(n)` is admissible if it never overestimates the cost to reach the goal.\n",
    "\n",
    "**proof:** In this problem the minimum cost of reaching the goal is when the agent chooses the manhattan path to go to top-right corner of the map and there is no obstacles on this way and also all the potions are in this manhattan path. Hence the $h(n)$ never overestimate the optimal path:\n",
    "\n",
    "$h(n) \\leq g(n) $ which $h(n)$ is the heuristic function and $g(n)$ is actual path cost to goal. "
   ]
  },
  {
   "cell_type": "markdown",
   "id": "77085368",
   "metadata": {},
   "source": [
    "### **This $h(n)$ is Consistent. WHY?**"
   ]
  },
  {
   "cell_type": "markdown",
   "id": "7cc0f83a",
   "metadata": {},
   "source": [
    "By defenition of *Artificial Intelligence(Amodern Approach)* book, a heuristic $h(n)$ is consistent if, for every node $n$ and every successor $n'$ of $n$ generated by any action $a$, te estimated cost of reaching the goal from n is no greater than the step costof getting to $n'$ plus the estimated cost if reaching the goal from $n'$\n",
    "\n",
    "$h(n) \\le c(n,a,n') + h(n')$\n",
    "\n",
    "This is a form of the general **triangle inequality**, which stipulates that each side of a triangle cannot be longer that the sum of other two sides.\n",
    "\n",
    "**proof:** conside state `A` and and its successor state `B`. The step cost in this problem is always $1$ so $cost(AtoB) = 1$. By the defined $h(n)$, $h(A) - h(B)$ can be $1$ or $-1$ (since there are just 4 directions available). Hence the inequality mentioned above is always true and we have: $ h(A) - h(B) \\leq 1  \\rightarrow h(A) - h(B) \\leq cost(A to B) \\rightarrow$ The heuristic funcion is `Consistent`.\n"
   ]
  },
  {
   "cell_type": "markdown",
   "id": "baebcd64",
   "metadata": {},
   "source": [
    "To implement A* algorithm we need priority queue to store frontier states in the order of the `f` function. As I mentioned abobe:  $f(n) = g(n) + h(n)$. In order to do this I implemented the priority queue class which has pop() and push() methods:"
   ]
  },
  {
   "cell_type": "code",
   "execution_count": 725,
   "id": "499d5cba",
   "metadata": {},
   "outputs": [],
   "source": [
    "class PriorityQueue:\n",
    "    def __init__(self):\n",
    "        self.queuee = []\n",
    "        self.size = 0\n",
    "        self.indexx = 0\n",
    "        \n",
    "    def pop(self):\n",
    "        self.size -= 1\n",
    "        return heapq.heappop(self.queuee)[-1]\n",
    " \n",
    "    def push(self, item, priority):\n",
    "        bisect.insort(self.queuee, (priority, self.indexx, item))\n",
    "        self.size += 1\n",
    "        self.indexx += 1"
   ]
  },
  {
   "cell_type": "markdown",
   "id": "0af08ca2",
   "metadata": {},
   "source": [
    "Here I implemented described heuristic function and  $f(n) = g(n) + h(n)$. "
   ]
  },
  {
   "cell_type": "code",
   "execution_count": 726,
   "id": "d3e396c2",
   "metadata": {},
   "outputs": [],
   "source": [
    "def f(curr_state, alpha):\n",
    "    cost = curr_state.depth\n",
    "    min_distance = get_heuristic(curr_state)\n",
    "    return cost + min_distance\n",
    "\n",
    "def get_heuristic(curr_state):\n",
    "    max_dist_agent = -math.inf\n",
    "    for a in curr_state.agents:\n",
    "        if abs(m - 1 - a.x) + abs(n - 1 - a.y) > max_dist_agent:\n",
    "            max_dist_agent = abs(m - 1 - a.x) + abs(n - 1 - a.y)\n",
    "    return max_dist_agent"
   ]
  },
  {
   "cell_type": "markdown",
   "id": "43c7d075",
   "metadata": {},
   "source": [
    "This is the A* implementation:"
   ]
  },
  {
   "cell_type": "code",
   "execution_count": 729,
   "id": "41a22d56",
   "metadata": {},
   "outputs": [],
   "source": [
    "def a_star(initial_state, f_function, alpha):\n",
    "    number_of_all_states = 0\n",
    "    frontier = PriorityQueue()\n",
    "    explored = set()\n",
    "    explored.add(initial_state.to_string())\n",
    "    if initial_state.is_goal():\n",
    "        print(\"Number of all states seen: \", number_of_all_states)\n",
    "        return starting_state\n",
    "    frontier.push(initial_state, f_function(initial_state, alpha))\n",
    "    while frontier.size:\n",
    "        curr_state = frontier.pop()\n",
    "        for d in directions:\n",
    "            for a in curr_state.agents:\n",
    "                new_x = a.x + d[0]\n",
    "                new_y = a.y + d[1]\n",
    "                if not is_obs(new_x, new_y):\n",
    "                    new_pos_ag = Agent(new_x, new_y, a.id)\n",
    "                    new_potions = copy.deepcopy(curr_state.potions)\n",
    "                    new_boosts = copy.deepcopy(curr_state.boosts)\n",
    "                    if is_potion_in_sqaure(curr_state, new_x, new_y):\n",
    "                        new_potions = [x for x in new_potions if x not in [[new_x, new_y]]]\n",
    "                    new_ag = None\n",
    "                    if is_boost_in_sqaure(curr_state, new_x, new_y):\n",
    "                        new_boosts = [x for x in new_boosts if x not in [[new_x, new_y]]]\n",
    "                        new_ag = Agent(n-1, 0, len(curr_state.agents)+1 )\n",
    "                    new_state = State(new_pos_ag, new_potions, new_boosts, curr_state)\n",
    "                    number_of_all_states += 1\n",
    "                    if not new_ag == None:\n",
    "                        new_state.add_agent(new_ag)\n",
    "                    for other_ag in curr_state.agents:\n",
    "                        if not other_ag.id == new_pos_ag.id:\n",
    "                            new_state.add_agent(other_ag)\n",
    "                    move_str = \"(\" + str(new_pos_ag.x)+\",\"+str(new_pos_ag.y)+\") \"+str(new_pos_ag.id)+' '+get_dir_string(d)\n",
    "                    if not new_ag == None:\n",
    "                        move_str += \" *boost* number of agents: \" + str(len(new_state.agents))\n",
    "                    new_state.set_move(move_str)\n",
    "                    if new_state.to_string() not in explored:\n",
    "                        if new_state.is_goal():\n",
    "                            print(f\"Different states seen: {len(explored)}\")\n",
    "                            print(f\"Number of all states seen: {number_of_all_states}\")\n",
    "                            return new_state\n",
    "                        frontier.push(new_state, f_function(new_state, alpha))\n",
    "                        explored.add(new_state.to_string())"
   ]
  },
  {
   "cell_type": "code",
   "execution_count": 732,
   "id": "68e37960",
   "metadata": {},
   "outputs": [
    {
     "name": "stdout",
     "output_type": "stream",
     "text": [
      "Different states seen: 36519\n",
      "Number of all states seen: 139524\n"
     ]
    }
   ],
   "source": [
    "start = time.time()\n",
    "final_state = a_star(initial_state, f, 1)\n",
    "end = time.time()"
   ]
  },
  {
   "cell_type": "markdown",
   "id": "3d7d4a65",
   "metadata": {},
   "source": [
    "Now I run the A* algorithm:"
   ]
  },
  {
   "cell_type": "code",
   "execution_count": 733,
   "id": "9223112d",
   "metadata": {},
   "outputs": [
    {
     "name": "stdout",
     "output_type": "stream",
     "text": [
      "Optimal path:\n",
      "(1,0) 1 UP\n",
      "(2,0) 1 UP\n",
      "(2,1) 1 RIGHT\n",
      "(2,2) 1 RIGHT *boost* number of agents: 2\n",
      "(5,1) 2 RIGHT\n",
      "(5,2) 2 RIGHT\n",
      "(5,3) 2 RIGHT\n",
      "(4,3) 2 DOWN\n",
      "(1,2) 1 DOWN\n",
      "(1,3) 1 RIGHT\n",
      "(1,4) 1 RIGHT\n",
      "(4,4) 2 RIGHT\n",
      "(1,5) 1 RIGHT\n",
      "(2,5) 1 UP\n",
      "(3,5) 1 UP\n",
      "(5,4) 2 UP\n",
      "(4,5) 1 UP\n",
      "(5,5) 1 UP\n",
      "(5,5) 2 RIGHT\n",
      "Distance: 19\n",
      "Total number of agents: 2\n",
      "Executation time: 2.9432196617126465 second\n"
     ]
    }
   ],
   "source": [
    "print(\"Optimal path:\")\n",
    "print_path(final_state)\n",
    "print(f\"Distance: {final_state.depth}\")\n",
    "print(f\"Total number of agents: {len(final_state.agents)}\")\n",
    "print(f\"Executation time: {end - start} second\")"
   ]
  },
  {
   "cell_type": "markdown",
   "id": "d3fbe566",
   "metadata": {},
   "source": [
    "## Test result of `A*` search:"
   ]
  },
  {
   "cell_type": "markdown",
   "id": "601e7297",
   "metadata": {},
   "source": [
    "| Test# | Different states  |  all states  | Distance  |             time           |\n",
    "|------ |-----------------|------------- |-----------|----------------------------|\n",
    "|   1   |      714        |    2853      |     11    |     0.04856371879577637    |\n",
    "|   2   |     19884       |    64500     |     11    |     1.2474870681762695     |\n",
    "|   3   |     36519       |    139524    |     19    |     2.962157964706421      |"
   ]
  },
  {
   "cell_type": "markdown",
   "id": "ba3fdc64",
   "metadata": {},
   "source": [
    "# Wighted A* (A star) search"
   ]
  },
  {
   "cell_type": "markdown",
   "id": "e9b5f845",
   "metadata": {},
   "source": [
    "The idea of `wighted A* search` is to speed up search at the expense of optimality. It takes an admissible heuristic, `inflate` it by a multiple $\\alpha \\gt 1$, and then perform A* search.\n",
    "In this method, fewer nodes tend to get expanded, but the resulting solution may be suboptimal(its cost will be at most $\\alpha$ times the cost of the optimal solution)\n",
    "\n",
    "I chose 2 alphas: $\\alpha1 = 1.5$ and $\\alpha2 = 2.5$"
   ]
  },
  {
   "cell_type": "code",
   "execution_count": 734,
   "id": "48394bfd",
   "metadata": {},
   "outputs": [],
   "source": [
    "alpha1 = 1.5\n",
    "alpha2 = 2.5\n",
    "\n",
    "def get_weighted_heuristic(curr_state, alpha):\n",
    "    return alpha * get_heuristic(curr_state)\n",
    "def get_weighted_f(curr_state, alpha):\n",
    "    return curr_state.depth + get_weighted_heuristic(curr_state, alpha)"
   ]
  },
  {
   "cell_type": "markdown",
   "id": "4d56ac4e",
   "metadata": {},
   "source": [
    "### Result of `weighted A*` with $\\alpha = 1.5$:  "
   ]
  },
  {
   "cell_type": "code",
   "execution_count": 735,
   "id": "314706db",
   "metadata": {},
   "outputs": [
    {
     "name": "stdout",
     "output_type": "stream",
     "text": [
      "Different states seen: 10934\n",
      "Number of all states seen: 32156\n"
     ]
    }
   ],
   "source": [
    "start = time.time()\n",
    "final_state = a_star(initial_state, get_weighted_f, alpha1)\n",
    "end = time.time()"
   ]
  },
  {
   "cell_type": "code",
   "execution_count": 736,
   "id": "a43160bb",
   "metadata": {},
   "outputs": [
    {
     "name": "stdout",
     "output_type": "stream",
     "text": [
      "Optimal path:\n",
      "(1,0) 1 UP\n",
      "(2,0) 1 UP\n",
      "(2,1) 1 RIGHT\n",
      "(2,2) 1 RIGHT *boost* number of agents: 2\n",
      "(1,2) 1 DOWN\n",
      "(1,3) 1 RIGHT\n",
      "(1,4) 1 RIGHT\n",
      "(1,5) 1 RIGHT\n",
      "(5,1) 2 RIGHT\n",
      "(5,2) 2 RIGHT\n",
      "(2,5) 1 UP\n",
      "(3,5) 1 UP\n",
      "(5,3) 2 RIGHT\n",
      "(4,3) 2 DOWN\n",
      "(4,4) 2 RIGHT\n",
      "(4,5) 1 UP\n",
      "(5,4) 2 UP\n",
      "(5,5) 1 UP\n",
      "(5,5) 2 RIGHT\n",
      "Distance: 19\n",
      "Total number of agents: 2\n",
      "Executation time: 0.7081477642059326 second\n"
     ]
    }
   ],
   "source": [
    "print(\"Optimal path:\")\n",
    "print_path(final_state)\n",
    "print(f\"Distance: {final_state.depth}\")\n",
    "print(f\"Total number of agents: {len(final_state.agents)}\")\n",
    "print(f\"Executation time: {end - start} second\")"
   ]
  },
  {
   "cell_type": "markdown",
   "id": "cfaab35f",
   "metadata": {},
   "source": [
    "## Test result of `A*` search: ($\\alpha = 1.5$)"
   ]
  },
  {
   "cell_type": "markdown",
   "id": "4885aea3",
   "metadata": {},
   "source": [
    "| Test# | Different states  |  All states | Distance  |             time           |\n",
    "|------ |-----------------|-------------|-----------|----------------------------|\n",
    "|   1   |      457        |    1189     |     11    |     0.025171995162963867   |\n",
    "|   2   |     7364         |    19718     |     11    |     0.029087066650390625   |\n",
    "|   3   |     10934       |    32156    |     19    |     0.6782541275024414     |"
   ]
  },
  {
   "cell_type": "markdown",
   "id": "6b89e07f",
   "metadata": {},
   "source": [
    "### Result of `weighted A*` with $\\alpha = 2.5$:  "
   ]
  },
  {
   "cell_type": "code",
   "execution_count": 737,
   "id": "5c163d49",
   "metadata": {},
   "outputs": [
    {
     "name": "stdout",
     "output_type": "stream",
     "text": [
      "Different states seen: 4230\n",
      "Number of all states seen: 11288\n"
     ]
    }
   ],
   "source": [
    "start = time.time()\n",
    "final_state = a_star(initial_state, get_weighted_f, alpha2)\n",
    "end = time.time()"
   ]
  },
  {
   "cell_type": "code",
   "execution_count": 738,
   "id": "0c45e19e",
   "metadata": {},
   "outputs": [
    {
     "name": "stdout",
     "output_type": "stream",
     "text": [
      "Optimal path:\n",
      "(1,0) 1 UP\n",
      "(2,0) 1 UP\n",
      "(2,1) 1 RIGHT\n",
      "(2,2) 1 RIGHT *boost* number of agents: 2\n",
      "(1,2) 1 DOWN\n",
      "(1,3) 1 RIGHT\n",
      "(1,4) 1 RIGHT\n",
      "(1,5) 1 RIGHT\n",
      "(5,1) 2 RIGHT\n",
      "(2,5) 1 UP\n",
      "(5,2) 2 RIGHT\n",
      "(3,5) 1 UP\n",
      "(5,3) 2 RIGHT\n",
      "(4,3) 2 DOWN\n",
      "(5,3) 2 UP\n",
      "(5,4) 2 RIGHT\n",
      "(4,5) 1 UP\n",
      "(5,5) 1 UP\n",
      "(5,5) 2 RIGHT\n",
      "Distance: 19\n",
      "Total number of agents: 2\n",
      "Executation time: 0.2266552448272705 second\n"
     ]
    }
   ],
   "source": [
    "print(\"Optimal path:\")\n",
    "print_path(final_state)\n",
    "print(f\"Distance: {final_state.depth}\")\n",
    "print(f\"Total number of agents: {len(final_state.agents)}\")\n",
    "print(f\"Executation time: {end - start} second\")"
   ]
  },
  {
   "cell_type": "markdown",
   "id": "47208cd5",
   "metadata": {},
   "source": [
    "## Test result of `A*` search: ($\\alpha = 2.5$)"
   ]
  },
  {
   "cell_type": "markdown",
   "id": "14ba022b",
   "metadata": {},
   "source": [
    "| Test# | unique  states  |  all states  | Distance  |             time           |\n",
    "|------ |-----------------|------------- |-----------|----------------------------|\n",
    "|   1   |      312        |    786       |     11    |     0.013810396194458008   |\n",
    "|   2   |     1509         |    3032       |     11    |     0.021607160568237305   |\n",
    "|   3   |     4230        |    11288     |     19    |     0.23101449012756348    |"
   ]
  },
  {
   "cell_type": "markdown",
   "id": "d28e29bb",
   "metadata": {},
   "source": [
    "As we see above, by increasing the $\\alpha$ value, the states were seen and as a result the excutation time decreased. here the optimal path did not change but in some problems it is possible to not to get the optimal solution."
   ]
  },
  {
   "cell_type": "markdown",
   "id": "5503d1f4",
   "metadata": {},
   "source": [
    "## Comapring each test by each algorithm:"
   ]
  },
  {
   "cell_type": "markdown",
   "id": "e6ab9895",
   "metadata": {},
   "source": [
    "### Test#1"
   ]
  },
  {
   "cell_type": "markdown",
   "id": "055f112a",
   "metadata": {},
   "source": [
    "|       Algorithm               | Different states|  All states  | Distance  |            average time    |\n",
    "|------------------------------|-----------------|------------- |-----------|----------------------------|\n",
    "|   BFS                        |     805         |    4149       |     11    |     0.05683951914572177    |\n",
    "|   IDS                        |     1893        |    31651       |     11    |     0.30469679832458496    |\n",
    "|   A*                         |     714         |    2853      |     11    |     0.04619717597961426    |\n",
    "|   weighted A* ($\\alpha=1.5$) |     457         |    1189      |     11    |     0.026871204376220703   |\n",
    "|   Weighted A* ($\\alpha=2.5$) |     312         |    786       |     11    |     0.01796889305114746    |"
   ]
  },
  {
   "cell_type": "markdown",
   "id": "b1f679de",
   "metadata": {},
   "source": [
    "### Test#2"
   ]
  },
  {
   "cell_type": "markdown",
   "id": "127dab14",
   "metadata": {},
   "source": [
    "|           Algorithm            | Different states|  All states  | Distance  |            average time    |\n",
    "|------------------------------|-----------------|------------- |-----------|----------------------------|\n",
    "|   BFS                        |      854407     |    116268    |     11    |     10.246020793914795   |\n",
    "|   IDS                        |     166772      |    2619636   |     11    |     29.92528986930847     |\n",
    "|   A*                         |     19884       |    64500     |     11    |     1.0177013874053955    |\n",
    "|   weighted A* ($\\alpha=1.5$) |     7364        |    11288     |     11    |      0.31426143646240234    |\n",
    "|   Weighted A* ($\\alpha=2.5$) |     1509        |    3032     |     11    |     0.06974935531616211    |"
   ]
  },
  {
   "cell_type": "markdown",
   "id": "e63051ef",
   "metadata": {},
   "source": [
    "### Test#3"
   ]
  },
  {
   "cell_type": "markdown",
   "id": "22733e56",
   "metadata": {},
   "source": [
    "|         Algorithm         | Different states|  All states  | Distance  |            average time    |\n",
    "|------------------------------|-----------------|------------- |-----------|----------------------------|\n",
    "|   BFS                        |      179473     |    1082141   |     19    |    15.309660911560059      |\n",
    "|   IDS                        |     290955      |    5270562    |     19    |     82.06716203689575   |\n",
    "|   A*                         |     36519        |    139524     |     19    |     2.92076420783996648    |\n",
    "|   weighted A* ($\\alpha=1.5$) |     10934        |    32156     |     19    |     0.6861546039581299    |\n",
    "|   Weighted A* ($\\alpha=2.5$) |     4230        |    11288     |     19    |     0.22646188735961914    |"
   ]
  },
  {
   "cell_type": "markdown",
   "id": "f7018224",
   "metadata": {},
   "source": [
    "## Comparing and Concolusion"
   ]
  },
  {
   "cell_type": "markdown",
   "id": "4898f81e",
   "metadata": {},
   "source": [
    "As we can see above all these algorithms are optimal and complete. They found the optimal solution but there are some differences which we should consider based on our aim. sometimes time is important sometime it is not.\n",
    "Generally, Informed search algorithms are better than Uninformed search algorithms becuase the have \"brain\". Informed serach algorithms are faster that Uninformed ones. They estimate the cost and decide in each state which path is better according to the estimatin.\n",
    "when we want to find the solution faster with less space complexiry and using Uninformed algorithms, it is better to choose `BFS` rather than `IDS`, otherwise we can choose `IDS`. In tests above, the executation time of `IDS` was more than `BFS`. When we want to use Informed Search algorithms and we want the optimal solution, the best choice is `A*` but if we want to trade off the time with optimality we can choose `weighted A*`. In `weighted A*` we get to the solution(but maybe not the optimal solution) even faster than `A*`. Also, if we increase the weight the accuracy would get lower but the executation time will increase and also there is more likely not to get the optimal solution.\n",
    "\n",
    "In this project I learned about different search algorithms, how to implement them and their advantages and disadvantages. Now I can compare them and finally choose which algorithms above are better in different problems."
   ]
  }
 ],
 "metadata": {
  "kernelspec": {
   "display_name": "Python 3",
   "language": "python",
   "name": "python3"
  },
  "language_info": {
   "codemirror_mode": {
    "name": "ipython",
    "version": 3
   },
   "file_extension": ".py",
   "mimetype": "text/x-python",
   "name": "python",
   "nbconvert_exporter": "python",
   "pygments_lexer": "ipython3",
   "version": "3.6.9"
  }
 },
 "nbformat": 4,
 "nbformat_minor": 5
}
